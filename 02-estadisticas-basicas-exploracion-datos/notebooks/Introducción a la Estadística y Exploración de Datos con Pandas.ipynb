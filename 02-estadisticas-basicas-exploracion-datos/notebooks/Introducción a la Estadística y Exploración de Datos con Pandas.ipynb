{
 "cells": [
  {
   "attachments": {},
   "cell_type": "markdown",
   "metadata": {},
   "source": [
    "| ![Isaac Zainea](https://raw.githubusercontent.com/Izainea/Izainea.github.io/master/logo.png) | Curso de Introducción a la Analítica de Datos | Isaac Zainea |\n",
    "|:---:|:---:|:---:|"
   ]
  },
  {
   "attachments": {},
   "cell_type": "markdown",
   "metadata": {},
   "source": [
    "# Introducción a la Estadística y Exploración de Datos con Pandas"
   ]
  },
  {
   "attachments": {},
   "cell_type": "markdown",
   "metadata": {},
   "source": [
    "## Tabla de Contenidos\n",
    "\n",
    "1. [Introducción y Motivación](#introducción-y-motivación)\n",
    "2. [Objetivos](#objetivos)\n",
    "3. [Sección 1: Conceptos fundamentales de estadística](#sección-1-conceptos-fundamentales-de-estadística)\n",
    "4. [Sección 2: Tipos de datos](#sección-2-tipos-de-datos)\n",
    "5. [Sección 3: Medidas de tendencia central](#sección-3-medidas-de-tendencia-central)\n",
    "6. [Sección 4: Medidas de dispersión](#sección-4-medidas-de-dispersión)\n",
    "7. [Sección 5: Distribuciones de probabilidad](#sección-5-distribuciones-de-probabilidad)\n",
    "8. [Sección 6: Exploración de datos con Pandas](#sección-6-exploración-de-datos-con-pandas)\n",
    "9. [Conclusiones](#conclusiones)\n"
   ]
  },
  {
   "attachments": {},
   "cell_type": "markdown",
   "metadata": {},
   "source": [
    "## Introducción y Motivación\n",
    "\n",
    "La estadística y la exploración de datos desempeñan un papel fundamental en el análisis de datos y en la toma de decisiones basadas en evidencias. En la era de la información en la que vivimos, la cantidad de datos generados cada día es abrumadora. Estos datos contienen valiosa información que puede ayudarnos a comprender fenómenos, identificar patrones y tomar decisiones informadas.\n",
    "\n",
    "La capacidad de manipular y analizar datos de manera efectiva se ha vuelto esencial en diversos campos, desde la investigación científica hasta el mundo empresarial y gubernamental. Aquí es donde entra en juego la librería Pandas. Pandas es una poderosa herramienta de análisis y manipulación de datos en Python que nos permite realizar tareas como limpieza, transformación y exploración de datos de manera eficiente.\n",
    "\n",
    "En este cuaderno, exploraremos los conceptos fundamentales de la estadística y cómo aplicarlos utilizando la librería Pandas. Aprenderemos sobre las medidas de tendencia central, las medidas de dispersión y las distribuciones de probabilidad. Además, descubriremos cómo Pandas nos permite realizar tareas como la carga y selección de datos, el filtrado y la agregación, y la visualización de datos. Al final de este cuaderno, estarás equipado con los conocimientos necesarios para comenzar a explorar y analizar datos utilizando Pandas."
   ]
  },
  {
   "attachments": {},
   "cell_type": "markdown",
   "metadata": {},
   "source": [
    "## Objetivos\n",
    "\n",
    "En este cuaderno, se persiguen los siguientes objetivos:\n",
    "\n",
    "- Comprender los conceptos fundamentales de la estadística y su importancia en el análisis de datos.\n",
    "- Familiarizarse con los diferentes tipos de datos y cómo se manejan en el análisis estadístico.\n",
    "- Conocer las medidas de tendencia central y dispersión utilizadas para describir y resumir los datos.\n",
    "- Explorar las distribuciones de probabilidad y su aplicación en el análisis estadístico.\n",
    "- Aprender a utilizar la librería Pandas para realizar la exploración de datos y manipulación de datos en Python.\n"
   ]
  },
  {
   "attachments": {},
   "cell_type": "markdown",
   "metadata": {},
   "source": [
    "## Sección 1: Conceptos fundamentales de estadística\n",
    "\n",
    "En esta sección, exploraremos los conceptos fundamentales de la estadística y su importancia en el análisis de datos. Comenzaremos por comprender qué es la estadística y cómo se aplica en diferentes campos.\n",
    "\n",
    "### 1.1 ¿Qué es la estadística?\n",
    "\n",
    "La estadística es una disciplina que se encarga de recolectar, organizar, analizar e interpretar datos. Su objetivo es obtener conclusiones y tomar decisiones basadas en evidencias proporcionadas por los datos. La estadística nos permite resumir y describir características de un conjunto de datos, identificar patrones y tendencias, realizar inferencias y estimaciones, y evaluar la incertidumbre asociada a los resultados.\n",
    "\n",
    "### 1.2 Aplicaciones de la estadística\n",
    "\n",
    "La estadística tiene numerosas aplicaciones en diferentes campos, como la investigación científica, la planificación y gestión empresarial, la salud, la economía, la ingeniería, entre otros. En cada uno de estos campos, la estadística ayuda a tomar decisiones informadas y a comprender fenómenos complejos a través del análisis y la interpretación de datos.\n",
    "\n",
    "### 1.3 Métodos estadísticos\n",
    "\n",
    "En el análisis estadístico, se utilizan diversos métodos para recopilar, organizar y analizar los datos. Estos métodos incluyen la recopilación de datos a través de muestreo o experimentación, la aplicación de técnicas de análisis descriptivo y exploratorio, la realización de pruebas de hipótesis y la construcción de modelos estadísticos.\n",
    "\n",
    "### 1.4 Pandas\n",
    "\n",
    "Pandas es una librería popular en Python para el análisis y manipulación de datos. Sus estructuras de datos flexibles, especialmente los DataFrames, son ideales para trabajar con conjuntos de datos tabulares.\n",
    "\n",
    "Razones por las que Pandas es útil en estadística y análisis de datos:\n",
    "\n",
    "1. **Manipulación y limpieza de datos**: Ofrece funciones para limpiar y manipular datos, como eliminar duplicados, manejar valores faltantes y filtrar subconjuntos de datos.\n",
    "\n",
    "2. **Exploración y visualización de datos**: Permite realizar análisis exploratorio y visualizar datos con estadísticas descriptivas, gráficos y análisis de correlación.\n",
    "\n",
    "3. **Análisis estadístico**: Incluye funciones para calcular medidas de tendencia central, dispersión, realizar pruebas de hipótesis y análisis de regresión.\n",
    "\n",
    "4. **Integración con otras librerías**: Se integra fácilmente con NumPy, Matplotlib y librerías especializadas en estadística, como SciPy y StatsModels.\n",
    "\n",
    "A continuación, se muestra una celda de código para importar Pandas y cargar un archivo de datos en un DataFrame:\n",
    "\n",
    "```python\n",
    "import pandas as pd\n",
    "\n",
    "# Cargar archivo de datos en un DataFrame\n",
    "df = pd.read_csv('archivo.csv')\n",
    "\n",
    "# Realizar operaciones y análisis con el DataFrame\n",
    "# ..."
   ]
  },
  {
   "cell_type": "code",
   "execution_count": 2,
   "metadata": {},
   "outputs": [
    {
     "data": {
      "text/html": [
       "<div>\n",
       "<style scoped>\n",
       "    .dataframe tbody tr th:only-of-type {\n",
       "        vertical-align: middle;\n",
       "    }\n",
       "\n",
       "    .dataframe tbody tr th {\n",
       "        vertical-align: top;\n",
       "    }\n",
       "\n",
       "    .dataframe thead th {\n",
       "        text-align: right;\n",
       "    }\n",
       "</style>\n",
       "<table border=\"1\" class=\"dataframe\">\n",
       "  <thead>\n",
       "    <tr style=\"text-align: right;\">\n",
       "      <th></th>\n",
       "      <th>id</th>\n",
       "      <th>nombre</th>\n",
       "      <th>edad</th>\n",
       "      <th>ciudad</th>\n",
       "      <th>salario</th>\n",
       "    </tr>\n",
       "  </thead>\n",
       "  <tbody>\n",
       "    <tr>\n",
       "      <th>0</th>\n",
       "      <td>1</td>\n",
       "      <td>Ana</td>\n",
       "      <td>28</td>\n",
       "      <td>Bogotá</td>\n",
       "      <td>3000000</td>\n",
       "    </tr>\n",
       "    <tr>\n",
       "      <th>1</th>\n",
       "      <td>2</td>\n",
       "      <td>Luis</td>\n",
       "      <td>32</td>\n",
       "      <td>Medellín</td>\n",
       "      <td>4000000</td>\n",
       "    </tr>\n",
       "    <tr>\n",
       "      <th>2</th>\n",
       "      <td>3</td>\n",
       "      <td>María</td>\n",
       "      <td>35</td>\n",
       "      <td>Cali</td>\n",
       "      <td>5000000</td>\n",
       "    </tr>\n",
       "    <tr>\n",
       "      <th>3</th>\n",
       "      <td>4</td>\n",
       "      <td>Pablo</td>\n",
       "      <td>29</td>\n",
       "      <td>Barranquilla</td>\n",
       "      <td>4500000</td>\n",
       "    </tr>\n",
       "    <tr>\n",
       "      <th>4</th>\n",
       "      <td>5</td>\n",
       "      <td>Sofía</td>\n",
       "      <td>31</td>\n",
       "      <td>Cartagena</td>\n",
       "      <td>3500000</td>\n",
       "    </tr>\n",
       "    <tr>\n",
       "      <th>5</th>\n",
       "      <td>6</td>\n",
       "      <td>Carlos</td>\n",
       "      <td>27</td>\n",
       "      <td>Bogotá</td>\n",
       "      <td>3200000</td>\n",
       "    </tr>\n",
       "    <tr>\n",
       "      <th>6</th>\n",
       "      <td>7</td>\n",
       "      <td>Andrea</td>\n",
       "      <td>30</td>\n",
       "      <td>Medellín</td>\n",
       "      <td>4100000</td>\n",
       "    </tr>\n",
       "    <tr>\n",
       "      <th>7</th>\n",
       "      <td>8</td>\n",
       "      <td>Manuel</td>\n",
       "      <td>34</td>\n",
       "      <td>Cali</td>\n",
       "      <td>4800000</td>\n",
       "    </tr>\n",
       "    <tr>\n",
       "      <th>8</th>\n",
       "      <td>9</td>\n",
       "      <td>Julia</td>\n",
       "      <td>28</td>\n",
       "      <td>Barranquilla</td>\n",
       "      <td>3800000</td>\n",
       "    </tr>\n",
       "    <tr>\n",
       "      <th>9</th>\n",
       "      <td>10</td>\n",
       "      <td>Daniel</td>\n",
       "      <td>32</td>\n",
       "      <td>Cartagena</td>\n",
       "      <td>3900000</td>\n",
       "    </tr>\n",
       "    <tr>\n",
       "      <th>10</th>\n",
       "      <td>11</td>\n",
       "      <td>Laura</td>\n",
       "      <td>29</td>\n",
       "      <td>Bogotá</td>\n",
       "      <td>3100000</td>\n",
       "    </tr>\n",
       "    <tr>\n",
       "      <th>11</th>\n",
       "      <td>12</td>\n",
       "      <td>Andrés</td>\n",
       "      <td>33</td>\n",
       "      <td>Medellín</td>\n",
       "      <td>4200000</td>\n",
       "    </tr>\n",
       "    <tr>\n",
       "      <th>12</th>\n",
       "      <td>13</td>\n",
       "      <td>Valeria</td>\n",
       "      <td>26</td>\n",
       "      <td>Cali</td>\n",
       "      <td>5100000</td>\n",
       "    </tr>\n",
       "    <tr>\n",
       "      <th>13</th>\n",
       "      <td>14</td>\n",
       "      <td>Juan</td>\n",
       "      <td>31</td>\n",
       "      <td>Barranquilla</td>\n",
       "      <td>4600000</td>\n",
       "    </tr>\n",
       "    <tr>\n",
       "      <th>14</th>\n",
       "      <td>15</td>\n",
       "      <td>Mónica</td>\n",
       "      <td>36</td>\n",
       "      <td>Cartagena</td>\n",
       "      <td>3400000</td>\n",
       "    </tr>\n",
       "    <tr>\n",
       "      <th>15</th>\n",
       "      <td>16</td>\n",
       "      <td>Carlos</td>\n",
       "      <td>28</td>\n",
       "      <td>Bogotá</td>\n",
       "      <td>3300000</td>\n",
       "    </tr>\n",
       "    <tr>\n",
       "      <th>16</th>\n",
       "      <td>17</td>\n",
       "      <td>Isabella</td>\n",
       "      <td>33</td>\n",
       "      <td>Medellín</td>\n",
       "      <td>4300000</td>\n",
       "    </tr>\n",
       "    <tr>\n",
       "      <th>17</th>\n",
       "      <td>18</td>\n",
       "      <td>Andrés</td>\n",
       "      <td>27</td>\n",
       "      <td>Cali</td>\n",
       "      <td>4900000</td>\n",
       "    </tr>\n",
       "    <tr>\n",
       "      <th>18</th>\n",
       "      <td>19</td>\n",
       "      <td>María</td>\n",
       "      <td>32</td>\n",
       "      <td>Barranquilla</td>\n",
       "      <td>3900000</td>\n",
       "    </tr>\n",
       "    <tr>\n",
       "      <th>19</th>\n",
       "      <td>20</td>\n",
       "      <td>Luisa</td>\n",
       "      <td>30</td>\n",
       "      <td>Cartagena</td>\n",
       "      <td>4000000</td>\n",
       "    </tr>\n",
       "    <tr>\n",
       "      <th>20</th>\n",
       "      <td>21</td>\n",
       "      <td>Diego</td>\n",
       "      <td>29</td>\n",
       "      <td>Bogotá</td>\n",
       "      <td>3200000</td>\n",
       "    </tr>\n",
       "    <tr>\n",
       "      <th>21</th>\n",
       "      <td>22</td>\n",
       "      <td>Sara</td>\n",
       "      <td>34</td>\n",
       "      <td>Medellín</td>\n",
       "      <td>4100000</td>\n",
       "    </tr>\n",
       "    <tr>\n",
       "      <th>22</th>\n",
       "      <td>23</td>\n",
       "      <td>Pedro</td>\n",
       "      <td>28</td>\n",
       "      <td>Cali</td>\n",
       "      <td>4800000</td>\n",
       "    </tr>\n",
       "    <tr>\n",
       "      <th>23</th>\n",
       "      <td>24</td>\n",
       "      <td>Diana</td>\n",
       "      <td>31</td>\n",
       "      <td>Barranquilla</td>\n",
       "      <td>3800000</td>\n",
       "    </tr>\n",
       "    <tr>\n",
       "      <th>24</th>\n",
       "      <td>25</td>\n",
       "      <td>Andrés</td>\n",
       "      <td>33</td>\n",
       "      <td>Cartagena</td>\n",
       "      <td>3900000</td>\n",
       "    </tr>\n",
       "  </tbody>\n",
       "</table>\n",
       "</div>"
      ],
      "text/plain": [
       "    id    nombre  edad        ciudad  salario\n",
       "0    1       Ana    28        Bogotá  3000000\n",
       "1    2      Luis    32      Medellín  4000000\n",
       "2    3     María    35          Cali  5000000\n",
       "3    4     Pablo    29  Barranquilla  4500000\n",
       "4    5     Sofía    31     Cartagena  3500000\n",
       "5    6    Carlos    27        Bogotá  3200000\n",
       "6    7    Andrea    30      Medellín  4100000\n",
       "7    8    Manuel    34          Cali  4800000\n",
       "8    9     Julia    28  Barranquilla  3800000\n",
       "9   10    Daniel    32     Cartagena  3900000\n",
       "10  11     Laura    29        Bogotá  3100000\n",
       "11  12    Andrés    33      Medellín  4200000\n",
       "12  13   Valeria    26          Cali  5100000\n",
       "13  14      Juan    31  Barranquilla  4600000\n",
       "14  15    Mónica    36     Cartagena  3400000\n",
       "15  16    Carlos    28        Bogotá  3300000\n",
       "16  17  Isabella    33      Medellín  4300000\n",
       "17  18    Andrés    27          Cali  4900000\n",
       "18  19     María    32  Barranquilla  3900000\n",
       "19  20     Luisa    30     Cartagena  4000000\n",
       "20  21     Diego    29        Bogotá  3200000\n",
       "21  22      Sara    34      Medellín  4100000\n",
       "22  23     Pedro    28          Cali  4800000\n",
       "23  24     Diana    31  Barranquilla  3800000\n",
       "24  25    Andrés    33     Cartagena  3900000"
      ]
     },
     "execution_count": 2,
     "metadata": {},
     "output_type": "execute_result"
    }
   ],
   "source": [
    "import pandas as pd\n",
    "\n",
    "# Cargamos el dataset de empleados guardado en \"https://raw.githubusercontent.com/Izainea/introduccion-analitica-datos/master/02-estadisticas-basicas-exploracion-datos/datos/datos_empleados.csv\"\n",
    "\n",
    "DF_salarios=pd.read_csv(\"https://raw.githubusercontent.com/Izainea/introduccion-analitica-datos/master/02-estadisticas-basicas-exploracion-datos/datos/datos_empleados.csv\")\n",
    "\n",
    "DF_salarios"
   ]
  },
  {
   "attachments": {},
   "cell_type": "markdown",
   "metadata": {},
   "source": [
    "## Sección 2: Tipos de datos\n",
    "\n",
    "En esta sección, exploraremos los diferentes tipos de datos y cómo se manejan en el análisis estadístico. Comenzaremos por comprender qué es un dato y cómo se clasifican.\n",
    "\n",
    "### 2.1 ¿Qué es un dato?\n",
    "\n",
    "Un dato es una representación simbólica de una cantidad, hecho o concepto. Los datos pueden ser numéricos o categóricos. Los datos numéricos representan cantidades y se pueden expresar en forma de números. Los datos categóricos representan características y se pueden expresar en forma de etiquetas o categorías.\n",
    "\n",
    "### 2.2 Tipos de datos\n",
    "\n",
    "Los datos numéricos se pueden clasificar en dos tipos: datos discretos y datos continuos. Los datos discretos son valores numéricos que se pueden contar, como el número de estudiantes en una clase o el número de autos en un estacionamiento. Los datos continuos son valores numéricos que se pueden medir, como la altura de una persona o la temperatura de un día.\n",
    "\n",
    "Los datos categóricos se pueden clasificar en dos tipos: datos ordinales y datos nominales. Los datos ordinales son valores categóricos que se pueden ordenar o clasificar, como el nivel de educación de una persona o el estado civil. Los datos nominales son valores categóricos que no se pueden ordenar o clasificar, como el género de una persona o el color de un automóvil.\n",
    "\n",
    "### 2.3 Pandas\n",
    "\n",
    "Pandas ofrece diferentes tipos de datos para representar datos numéricos y categóricos. Los tipos de datos numéricos incluyen int64, float64 y bool. Los tipos de datos categóricos incluyen category y object.\n",
    "\n",
    "A continuación, se muestra una celda de código para identificar los tipos de datos de un DataFrame:\n",
    "\n",
    "```python\n",
    "# Identificar tipos de datos\n",
    "df.dtypes\n",
    "```\n",
    "\n",
    "Con el DataFrame del ejemplo anterior tenemos:\n"
   ]
  },
  {
   "cell_type": "code",
   "execution_count": 3,
   "metadata": {},
   "outputs": [
    {
     "data": {
      "text/plain": [
       "id          int64\n",
       "nombre     object\n",
       "edad        int64\n",
       "ciudad     object\n",
       "salario     int64\n",
       "dtype: object"
      ]
     },
     "execution_count": 3,
     "metadata": {},
     "output_type": "execute_result"
    }
   ],
   "source": [
    "### Tipos de datos DF_salarios\n",
    "DF_salarios.dtypes"
   ]
  },
  {
   "attachments": {},
   "cell_type": "markdown",
   "metadata": {},
   "source": [
    "No obstante, tambien podemos usar el siguiente comando para obtener un resumen de los datos:\n",
    "\n",
    "```python\n",
    "# Resumen de los datos\n",
    "df.info()\n",
    "```"
   ]
  },
  {
   "cell_type": "code",
   "execution_count": 4,
   "metadata": {},
   "outputs": [
    {
     "name": "stdout",
     "output_type": "stream",
     "text": [
      "<class 'pandas.core.frame.DataFrame'>\n",
      "RangeIndex: 25 entries, 0 to 24\n",
      "Data columns (total 5 columns):\n",
      " #   Column   Non-Null Count  Dtype \n",
      "---  ------   --------------  ----- \n",
      " 0   id       25 non-null     int64 \n",
      " 1   nombre   25 non-null     object\n",
      " 2   edad     25 non-null     int64 \n",
      " 3   ciudad   25 non-null     object\n",
      " 4   salario  25 non-null     int64 \n",
      "dtypes: int64(3), object(2)\n",
      "memory usage: 1.1+ KB\n"
     ]
    }
   ],
   "source": [
    "DF_salarios.info()"
   ]
  },
  {
   "attachments": {},
   "cell_type": "markdown",
   "metadata": {},
   "source": [
    "En la base de datos vamos a introucir la siguiente información:\n",
    "\n",
    "| Variable | Descripción | Tipo de dato |\n",
    "|:---:|:---:|:---:|\n",
    "| `Fecha de entrada` | Fecha de entrada del empleado | `datetime64` |\n"
   ]
  },
  {
   "cell_type": "code",
   "execution_count": 6,
   "metadata": {},
   "outputs": [],
   "source": [
    "## Escribimos las 25 fechas de entrada:\n",
    "\n",
    "fechas = [\n",
    "    '2022-09-15', '2021-06-25', '2023-03-10', '2022-11-07', '2023-01-18',\n",
    "    '2021-08-29', '2022-07-02', '2023-04-05', '2021-12-12', '2022-10-23',\n",
    "    '2023-02-04', '2021-07-07', '2022-06-16', '2023-03-21', '2022-11-30',\n",
    "    '2023-01-09', '2021-09-20', '2022-07-22', '2023-04-27', '2021-12-03',\n",
    "    '2022-10-14', '2023-02-24', '2021-07-28', '2022-06-05', '2023-03-16' ]\n",
    "### Creamos la nueva variable \"fecha_entrada\" con las fechas de entrada\n",
    "DF_salarios['fecha_entrada'] = fechas"
   ]
  },
  {
   "attachments": {},
   "cell_type": "markdown",
   "metadata": {},
   "source": [
    "Veamos los tipos de datos de este DataFrame, sera claro que el tipo de dato de la columna `Fecha de entrada` es `object`. Usaremos el siguiente comando para cambiar el tipo de dato de esta columna:\n",
    "\n",
    "```python\n",
    "# Cambiar tipo de dato de la columna 'Fecha de entrada'\n",
    "df['Fecha de entrada'] = pd.to_datetime(df['Fecha de entrada'])\n",
    "```"
   ]
  },
  {
   "cell_type": "code",
   "execution_count": 7,
   "metadata": {},
   "outputs": [
    {
     "name": "stdout",
     "output_type": "stream",
     "text": [
      "<class 'pandas.core.frame.DataFrame'>\n",
      "RangeIndex: 25 entries, 0 to 24\n",
      "Data columns (total 6 columns):\n",
      " #   Column         Non-Null Count  Dtype \n",
      "---  ------         --------------  ----- \n",
      " 0   id             25 non-null     int64 \n",
      " 1   nombre         25 non-null     object\n",
      " 2   edad           25 non-null     int64 \n",
      " 3   ciudad         25 non-null     object\n",
      " 4   salario        25 non-null     int64 \n",
      " 5   fecha_entrada  25 non-null     object\n",
      "dtypes: int64(3), object(3)\n",
      "memory usage: 1.3+ KB\n"
     ]
    }
   ],
   "source": [
    "DF_salarios.info()"
   ]
  },
  {
   "cell_type": "code",
   "execution_count": 8,
   "metadata": {},
   "outputs": [
    {
     "name": "stdout",
     "output_type": "stream",
     "text": [
      "<class 'pandas.core.frame.DataFrame'>\n",
      "RangeIndex: 25 entries, 0 to 24\n",
      "Data columns (total 6 columns):\n",
      " #   Column         Non-Null Count  Dtype         \n",
      "---  ------         --------------  -----         \n",
      " 0   id             25 non-null     int64         \n",
      " 1   nombre         25 non-null     object        \n",
      " 2   edad           25 non-null     int64         \n",
      " 3   ciudad         25 non-null     object        \n",
      " 4   salario        25 non-null     int64         \n",
      " 5   fecha_entrada  25 non-null     datetime64[ns]\n",
      "dtypes: datetime64[ns](1), int64(3), object(2)\n",
      "memory usage: 1.3+ KB\n"
     ]
    }
   ],
   "source": [
    "DF_salarios['fecha_entrada'] = pd.to_datetime(DF_salarios['fecha_entrada'])\n",
    "DF_salarios.info()"
   ]
  },
  {
   "attachments": {},
   "cell_type": "markdown",
   "metadata": {},
   "source": [
    "Finalmente, si quisieramos identificar las columnas que contienen datos categóricos, podemos usar el siguiente comando:\n",
    "\n",
    "```python\n",
    "# Identificar columnas con datos categóricos\n",
    "df.select_dtypes(include=['category', 'object']).columns\n",
    "```"
   ]
  },
  {
   "cell_type": "code",
   "execution_count": 10,
   "metadata": {},
   "outputs": [
    {
     "data": {
      "text/plain": [
       "Index(['nombre', 'ciudad'], dtype='object')"
      ]
     },
     "execution_count": 10,
     "metadata": {},
     "output_type": "execute_result"
    }
   ],
   "source": [
    "DF_salarios.select_dtypes(include=['category','object']).columns"
   ]
  },
  {
   "attachments": {},
   "cell_type": "markdown",
   "metadata": {},
   "source": [
    "Otra función, diferente de pd.to_datetime, que nos permite cambiar el tipo de dato de una columna es as_type. Esta función nos permite cambiar el tipo de dato de una columna a un tipo de dato específico. Por ejemplo, si quisieramos cambiar el tipo de dato de la columna `id` a `str`, podemos usar el siguiente comando:\n",
    "\n",
    "```python\n",
    "# Cambiar tipo de dato de la columna 'id' a 'str'\n",
    "df['id'] = df['id'].astype('str')\n",
    "```"
   ]
  },
  {
   "cell_type": "code",
   "execution_count": 13,
   "metadata": {},
   "outputs": [
    {
     "data": {
      "text/plain": [
       "id                       object\n",
       "nombre                   object\n",
       "edad                      int64\n",
       "ciudad                   object\n",
       "salario                   int64\n",
       "fecha_entrada    datetime64[ns]\n",
       "dtype: object"
      ]
     },
     "execution_count": 13,
     "metadata": {},
     "output_type": "execute_result"
    }
   ],
   "source": [
    "DF_salarios['id']=DF_salarios['id'].astype('str')\n",
    "DF_salarios.dtypes"
   ]
  }
 ],
 "metadata": {
  "kernelspec": {
   "display_name": "base",
   "language": "python",
   "name": "python3"
  },
  "language_info": {
   "codemirror_mode": {
    "name": "ipython",
    "version": 3
   },
   "file_extension": ".py",
   "mimetype": "text/x-python",
   "name": "python",
   "nbconvert_exporter": "python",
   "pygments_lexer": "ipython3",
   "version": "3.10.9"
  },
  "orig_nbformat": 4
 },
 "nbformat": 4,
 "nbformat_minor": 2
}
