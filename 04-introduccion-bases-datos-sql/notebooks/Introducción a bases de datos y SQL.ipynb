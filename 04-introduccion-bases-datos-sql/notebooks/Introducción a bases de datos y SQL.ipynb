{
 "cells": [
  {
   "attachments": {},
   "cell_type": "markdown",
   "metadata": {},
   "source": [
    "| ![Isaac Zainea](https://raw.githubusercontent.com/Izainea/Izainea.github.io/master/logo.png) | Curso de Introducción a la Analítica de Datos | Isaac Zainea |\n",
    "|:---:|:---:|:---:|"
   ]
  },
  {
   "attachments": {},
   "cell_type": "markdown",
   "metadata": {},
   "source": [
    "# Introducción a bases de datos y SQL"
   ]
  },
  {
   "attachments": {},
   "cell_type": "markdown",
   "metadata": {},
   "source": [
    "## Tabla de Contenidos:\n",
    "## Tabla de contenido\n",
    "\n",
    "1. [Introducción a las bases de datos y SQL](#introducción-a-las-bases-de-datos-y-sql)\n",
    "2. [Objetivos](#objetivos)\n",
    "3. [Sección 1: Conceptos fundamentales de bases de datos](#conceptos-fundamentales-de-bases-de-datos)\n",
    "4. [Sección 2: Introducción a SQL](#introducción-a-sql)\n",
    "5. [Sección 3: Consulta de datos con SQL](#consulta-de-datos-con-sql)\n",
    "6. [Sección 4: Manipulación de datos con SQL](#manipulación-de-datos-con-sql)\n",
    "\n",
    "\n",
    "\n"
   ]
  },
  {
   "attachments": {},
   "cell_type": "markdown",
   "metadata": {},
   "source": [
    "## Introducción y Motivación\n",
    "\n",
    "En esta sección aprenderemos los conceptos fundamentales de bases de datos y SQL.\n",
    "\n",
    "## Objetivos\n",
    "\n",
    "- Entender los conceptos fundamentales de bases de datos.\n",
    "- Aprender a consultar y manipular datos con SQL.\n"
   ]
  },
  {
   "attachments": {},
   "cell_type": "markdown",
   "metadata": {},
   "source": [
    "- Normalización min-max\n",
    "```python \n",
    "from sklearn.preprocessing \n",
    "import MinMaxScaler  \n",
    "scaler = MinMaxScaler()  \n",
    "df['columna_normalizada'] = scaler.fit_transform(df[['columna']])\n",
    "```\n",
    "- Estandarización Z-score    \n",
    "```python \n",
    "from sklearn.preprocessing \n",
    "import StandardScaler  \n",
    "scaler = StandardScaler()  \n",
    "df['columna_estandarizada'] = scaler.fit_transform(df[['columna']])\n",
    "```\n",
    "- Escalado por Robustez      \n",
    "```python \n",
    "from sklearn.preprocessing \n",
    "import RobustScaler\n",
    "scaler = RobustScaler()  \n",
    "df['columna_escalada'] = scaler.fit_transform(df[['columna']])\n",
    "```\n",
    "- Escalado por Máximo Absoluto      \n",
    "```python\n",
    "from sklearn.preprocessing\n",
    "import MaxAbsScaler\n",
    "scaler = MaxAbsScaler()\n",
    "df['columna_escalada'] = scaler.fit_transform(df[['columna']])\n",
    "```\n",
    "- Escalado por Cuantiles      \n",
    "```python\n",
    "from sklearn.preprocessing\n",
    "import QuantileTransformer\n",
    "scaler = QuantileTransformer()\n",
    "df['columna_escalada'] = scaler.fit_transform(df[['columna']])\n",
    "```\n",
    "\n",
    "- Codificación One-Hot       \n",
    "```python \n",
    "encoded_df = pd.get_dummies(df['columna'])\n",
    "```\n",
    "\n",
    "- Codificación de Etiquetas  \n",
    "```python \n",
    "from sklearn.preprocessing \n",
    "import LabelEncoder  \n",
    "encoder = LabelEncoder()  \n",
    "df['columna_codificada'] = encoder.fit_transform(df['columna'])\n",
    "``` \n",
    "- Codificación Ordinal       \n",
    "```python \n",
    "ordering = ['categoria1', 'categoria2', 'categoria3']  \n",
    "df['columna_codificada'] = df['columna'].map(lambda x: ordering.index(x))\n",
    "```\n"
   ]
  },
  {
   "cell_type": "markdown",
   "metadata": {},
   "source": []
  }
 ],
 "metadata": {
  "language_info": {
   "name": "python"
  },
  "orig_nbformat": 4
 },
 "nbformat": 4,
 "nbformat_minor": 2
}
