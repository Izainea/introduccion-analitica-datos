{
 "cells": [
  {
   "attachments": {},
   "cell_type": "markdown",
   "metadata": {},
   "source": [
    "| ![Isaac Zainea](https://raw.githubusercontent.com/Izainea/Izainea.github.io/master/logo.png) | Curso de Introducción a la Analítica de Datos | Isaac Zainea |\n",
    "|:---:|:---:|:---:|"
   ]
  },
  {
   "attachments": {},
   "cell_type": "markdown",
   "metadata": {},
   "source": [
    "# Limpieza y preprocesamiento de datos"
   ]
  },
  {
   "attachments": {},
   "cell_type": "markdown",
   "metadata": {},
   "source": [
    "# Título: Limpieza y Preprocesamiento de Datos\n",
    "\n",
    "## Tabla de Contenidos:\n",
    "1. [Introducción y Motivación](#introducción-y-motivación)\n",
    "2. [Objetivos](#objetivos)\n",
    "3. [Sección 1: Identificación y Tratamiento de Datos Faltantes](#sección-1-identificación-y-tratamiento-de-datos-faltantes)\n",
    "4. [Sección 2: Gestión de Valores Atípicos](#sección-2-gestión-de-valores-atípicos)\n",
    "5. [Sección 3: Normalización y Estandarización de Datos](#sección-3-normalización-y-estandarización-de-datos)\n",
    "6. [Sección 4: Codificación y Transformación de Variables Categóricas](#sección-4-codificación-y-transformación-de-variables-categóricas)\n",
    "7. [Sección 5: Discretización y Binning de Variables Continuas](#sección-5-discretización-y-binning-de-variables-continuas)\n",
    "8. [Sección 6: Eliminación de Duplicados y Deduplicación de Datos](#sección-6-eliminación-de-duplicados-y-deduplicación-de-datos)\n",
    "9. [Sección 7: Técnicas de Muestreo y Remuestreo de Datos](#sección-7-técnicas-de-muestreo-y-remuestreo-de-datos)\n",
    "10. [Sección 8: Integración y Unificación de Datos](#sección-8-integración-y-unificación-de-datos)\n"
   ]
  },
  {
   "attachments": {},
   "cell_type": "markdown",
   "metadata": {},
   "source": [
    "## Introducción y Motivación\n",
    "\n",
    "En esta sección se abordarán las técnicas de limpieza y preprocesamiento de datos, las cuales son de vital importancia para el desarrollo de un proyecto de analítica de datos.\n",
    "\n",
    "## Objetivos\n",
    "\n",
    "- Identificar y tratar datos faltantes.\n",
    "- Identificar y tratar valores atípicos.\n",
    "- Normalizar y estandarizar datos.\n",
    "- Codificar y transformar variables categóricas.\n",
    "- Discretizar y binning de variables continuas.\n",
    "- Eliminar duplicados y deduplicar datos.\n",
    "- Aplicar técnicas de muestreo y remuestreo de datos.\n",
    "- Integrar y unificar datos."
   ]
  },
  {
   "attachments": {},
   "cell_type": "markdown",
   "metadata": {},
   "source": [
    "- Normalización min-max\n",
    "```python \n",
    "from sklearn.preprocessing \n",
    "import MinMaxScaler  \n",
    "scaler = MinMaxScaler()  \n",
    "df['columna_normalizada'] = scaler.fit_transform(df[['columna']])\n",
    "```\n",
    "- Estandarización Z-score    \n",
    "```python \n",
    "from sklearn.preprocessing \n",
    "import StandardScaler  \n",
    "scaler = StandardScaler()  \n",
    "df['columna_estandarizada'] = scaler.fit_transform(df[['columna']])\n",
    "```\n",
    "- Escalado por Robustez      \n",
    "```python \n",
    "from sklearn.preprocessing \n",
    "import RobustScaler\n",
    "scaler = RobustScaler()  \n",
    "df['columna_escalada'] = scaler.fit_transform(df[['columna']])\n",
    "```\n",
    "- Escalado por Máximo Absoluto      \n",
    "```python\n",
    "from sklearn.preprocessing\n",
    "import MaxAbsScaler\n",
    "scaler = MaxAbsScaler()\n",
    "df['columna_escalada'] = scaler.fit_transform(df[['columna']])\n",
    "```\n",
    "- Escalado por Cuantiles      \n",
    "```python\n",
    "from sklearn.preprocessing\n",
    "import QuantileTransformer\n",
    "scaler = QuantileTransformer()\n",
    "df['columna_escalada'] = scaler.fit_transform(df[['columna']])\n",
    "```\n",
    "\n",
    "- Codificación One-Hot       \n",
    "```python \n",
    "encoded_df = pd.get_dummies(df['columna'])\n",
    "```\n",
    "\n",
    "- Codificación de Etiquetas  \n",
    "```python \n",
    "from sklearn.preprocessing \n",
    "import LabelEncoder  \n",
    "encoder = LabelEncoder()  \n",
    "df['columna_codificada'] = encoder.fit_transform(df['columna'])\n",
    "``` \n",
    "- Codificación Ordinal       \n",
    "```python \n",
    "ordering = ['categoria1', 'categoria2', 'categoria3']  \n",
    "df['columna_codificada'] = df['columna'].map(lambda x: ordering.index(x))\n",
    "```\n"
   ]
  },
  {
   "cell_type": "markdown",
   "metadata": {},
   "source": []
  }
 ],
 "metadata": {
  "language_info": {
   "name": "python"
  },
  "orig_nbformat": 4
 },
 "nbformat": 4,
 "nbformat_minor": 2
}
