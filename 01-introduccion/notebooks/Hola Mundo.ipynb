{
 "cells": [
  {
   "attachments": {},
   "cell_type": "markdown",
   "metadata": {},
   "source": [
    "| ![Isaac Zainea](https://raw.githubusercontent.com/Izainea/Izainea.github.io/master/logo.png) | Curso de Introducción a la Analítica de Datos | Isaac Zainea |\n",
    "|:---:|:---:|:---:|\n",
    "\n",
    "\n",
    "# Hola Mundo\n",
    "\n",
    "¡Bienvenido al curso de Introducción a la Analítica de Datos! Este curso está diseñado para proporcionar una base sólida en conceptos y técnicas de análisis de datos. Trabajaremos con paquetes actualizados en Python a fecha de mayo de 2023. Antes de continuar aprovechamos y repasamos algunos conceptos básicos, que nos ayudarán a entender mejor el curso.\n",
    "\n",
    "## ¿Qué es la Analítica de Datos?\n",
    "\n",
    "La Analítica de Datos es el proceso de examinar datos para sacar conclusiones sobre la información que contienen, con el objetivo de tomar decisiones sobre los datos. La analítica de datos se emplea en muchas industrias para permitir que las empresas y las organizaciones tomen mejores decisiones comerciales y, en el sector científico, para verificar o refutar modelos y teorías existentes. En este repositorio encontrarás una serie de cuadernos de Jupyter que te ayudarán a aplicar técnicas de análisis de datos a problemas del mundo real. \n",
    "\n",
    "En este curso, aprenderás a:\n",
    "\n",
    "- Importar y limpiar datos\n",
    "- Explorar y visualizar datos\n",
    "- Comunicar los resultados del análisis\n",
    "\n",
    "Nos ayudaremos principalmente de Python y Jupyter Notebook, pero también utilizaremos otras herramientas como SQL, Excel, Power BI, etc.\n",
    "\n",
    "## ¿Qué es Python?\n",
    "\n",
    "Python es un lenguaje de programación de alto nivel, interpretado, interactivo y orientado a objetos. Fue creado por Guido van Rossum y lanzado por primera vez en 1991. Python es un lenguaje de programación multiparadigma, lo que significa que admite programación orientada a objetos, programación imperativa y programación funcional. Es un lenguaje de programación interpretado, lo que significa que no se compila a código máquina ejecutable, sino que se ejecuta directamente por el intérprete. Esto permite que los programas escritos en Python se ejecuten en múltiples plataformas sin necesidad de cambios. El lenguaje de programación Python es mantenido por la Python Software Foundation. \n",
    "\n",
    "Para este curso, el uso de Python se hará através de Google Colab, se requiere entonces que cree una cuenta de gmail para poder acceder a esta herramienta. Google Colab es un entorno de Jupyter Notebook que no requiere configuración y se ejecuta completamente en la nube, por lo tanto no es necesario instalar nada en tu computadora.\n",
    "\n",
    "\n",
    "## Jupyter Notebook\n",
    "\n",
    "Aunque el mundo de la programación para algunos puede resultar intimidante, confuso e inaccesible; **Jupyter Notebook** es una herramienta que facilita el aprendizaje de Python por su idea revolucionaria de combinar código, texto y visualizaciones en un mismo documento.\n",
    "\n",
    "La estructura de cuaderno permite que tengamos celdas de texto y celdas de código en bloques. \n",
    "\n",
    "**Celdas de texto**\n",
    "Las celdas de texto se escriben en formato Markdown, que es un lenguaje de marcado ligero que permite añadir formato al texto. Por ejemplo, para escribir un título de nivel 1, utilizamos el símbolo `#` seguido del texto:\n",
    "\n",
    "```markdown\n",
    "# Título de nivel 1\n",
    "```\n",
    "\n",
    "Para escribir un título de nivel 2, utilizamos el símbolo `##` seguido del texto:\n",
    "\n",
    "```markdown\n",
    "## Título de nivel 2\n",
    "```\n",
    "\n",
    "Para escribir un título de nivel 3, utilizamos el símbolo `###` seguido del texto:\n",
    "\n",
    "```markdown\n",
    "### Título de nivel 3\n",
    "```\n",
    "\n",
    "y así sucesivamente. Google Colab tiene un editor muy simple de Markdown, que permite ver el resultado del texto formateado en tiempo real.\n",
    "\n",
    "**Celdas de código**\n",
    "\n",
    "Por otro lado, las celdas de código se escriben en Python. Por ejemplo, para imprimir un mensaje en pantalla, utilizamos la función `print()`:\n",
    "\n",
    "```python\n",
    "print(\"Hola Mundo\")\n",
    "```\n",
    "\n",
    "En lo que sigue, observe que la celda siguiente es una celda de código. Para ejecutar el código, haga clic en el botón de reproducción que aparece a la izquierda de la celda o presione `Ctrl + Enter`:\n"
   ]
  },
  {
   "cell_type": "code",
   "execution_count": 1,
   "metadata": {},
   "outputs": [
    {
     "name": "stdout",
     "output_type": "stream",
     "text": [
      "Hola Mundo\n"
     ]
    }
   ],
   "source": [
    "print(\"Hola Mundo\")"
   ]
  },
  {
   "attachments": {},
   "cell_type": "markdown",
   "metadata": {},
   "source": [
    "Como es su primera ejecución, en Google Colab debio aparecer un mensaje que dice:\n",
    "\n",
    "```\n",
    "Advertencia: Este cuaderno no lo ha creado Google.\n",
    "```\n",
    "\n",
    "Esto es porque el cuaderno no se encuentra en su Google Drive, sino en el repositorio de GitHub. Para poder ejecutar el código, debe hacer clic en el botón `Ejecutar de todos modos`. Pasará un tiempo mientras se instalan las dependencias necesarias para ejecutar el código. Cuando termine, verá el mensaje `Conectado` en la parte superior derecha de la página la información de la RAM y el Disco que está utilizando desde Colab.\n",
    "\n"
   ]
  },
  {
   "attachments": {},
   "cell_type": "markdown",
   "metadata": {},
   "source": [
    "## Librerias de Python\n",
    "\n",
    "Una de las principales ventajas de Python es la gran cantidad de librerías que existen para realizar diferentes tareas. En este curso, utilizaremos principalmente las siguientes librerías:\n",
    "\n",
    "- **NumPy**: es una librería de Python que proporciona una gran colección de funciones matemáticas y de alto nivel que operan en arreglos y matrices.\n",
    "\n",
    "- **Pandas**: es una librería de Python que proporciona estructuras de datos y herramientas de análisis de datos de alto rendimiento y fáciles de usar.\n",
    "\n",
    "- **Matplotlib**: es una librería de Python que permite crear visualizaciones estáticas, animadas e interactivas.\n",
    "\n",
    "- **Seaborn**: es una librería de Python que permite crear visualizaciones estadísticas en Python."
   ]
  },
  {
   "cell_type": "code",
   "execution_count": 2,
   "metadata": {},
   "outputs": [],
   "source": [
    "import numpy as np\n",
    "import matplotlib.pyplot as plt\n",
    "import pandas as pd\n",
    "import seaborn as sns"
   ]
  },
  {
   "attachments": {},
   "cell_type": "markdown",
   "metadata": {},
   "source": [
    "La sintaxis para importar una librería es la siguiente:\n",
    "\n",
    "```python\n",
    "import libreria as alias\n",
    "```\n",
    "\n",
    "Al cargar la libreria todas las funciones que contiene se pueden utilizar utilizando el alias. Se usa \".\" para acceder a las funciones de la librería. Por ejemplo si la función es `funcion()` y la librería se llama `libreria` entonces se utiliza `libreria.funcion()`. Si se importó con el alias `alias` entonces se utiliza `alias.funcion()`.\n",
    "\n",
    "\n",
    "Por ejemplo, para importar la librería NumPy con el alias `np`, utilizamos:\n",
    "\n",
    "```python\n",
    "import numpy as np\n",
    "```\n",
    "\n",
    "Y si de numpy quiero utilizar la función `array()` entonces utilizo `np.mean()`.\n",
    "\n",
    "Por ejemplo:\n",
    "    \n",
    "```python\n",
    "import numpy as np\n",
    "np.mean([1,2,3,4,5])\n",
    "```\n",
    "tiene como resultado `3.0`. El promedio de los números del 1 al 5 es 3."
   ]
  },
  {
   "cell_type": "code",
   "execution_count": 3,
   "metadata": {},
   "outputs": [
    {
     "data": {
      "text/plain": [
       "3.0"
      ]
     },
     "execution_count": 3,
     "metadata": {},
     "output_type": "execute_result"
    }
   ],
   "source": [
    "import numpy as np\n",
    "np.mean([1,2,3,4,5])"
   ]
  },
  {
   "attachments": {},
   "cell_type": "markdown",
   "metadata": {},
   "source": [
    "## Ejercicios\n",
    "\n",
    "1. Importe la librería NumPy con el alias `np` y calcule el promedio de los números del 1 al 5.\n",
    "\n",
    "2. Importe la librería Pandas con el alias `pd` y cree un DataFrame con los siguientes datos:\n",
    "\n",
    "| Nombre | Edad | Sexo |\n",
    "|--------|------|------|\n",
    "| Juan   | 25   | M    |\n",
    "| Ana    | 30   | F    |\n",
    "| Pedro  | 45   | M    |\n",
    "| María  | 35   | F    |\n"
   ]
  }
 ],
 "metadata": {
  "kernelspec": {
   "display_name": "base",
   "language": "python",
   "name": "python3"
  },
  "language_info": {
   "codemirror_mode": {
    "name": "ipython",
    "version": 3
   },
   "file_extension": ".py",
   "mimetype": "text/x-python",
   "name": "python",
   "nbconvert_exporter": "python",
   "pygments_lexer": "ipython3",
   "version": "3.10.6"
  },
  "orig_nbformat": 4
 },
 "nbformat": 4,
 "nbformat_minor": 2
}
