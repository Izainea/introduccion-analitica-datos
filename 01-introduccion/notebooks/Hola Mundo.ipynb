{
 "cells": [
  {
   "attachments": {},
   "cell_type": "markdown",
   "metadata": {},
   "source": [
    "| ![Isaac Zainea](https://raw.githubusercontent.com/Izainea/Izainea.github.io/master/logo.png) | Curso de Introducción a la Analítica de Datos | Isaac Zainea |\n",
    "|:---:|:---:|:---:|\n",
    "\n",
    "\n",
    "# Hola Mundo\n",
    "\n",
    "¡Bienvenido al curso de Introducción a la Analítica de Datos! Este curso está diseñado para proporcionar una base sólida en conceptos y técnicas de análisis de datos. Trabajaremos con paquetes actualizados en Python a fecha de mayo de 2023. Antes de continuar aprovechamos y repasamos algunos conceptos básicos, que nos ayudarán a entender mejor el curso.\n",
    "\n",
    "## ¿Qué es la Analítica de Datos?\n",
    "\n",
    "La Analítica de Datos es el proceso de examinar datos para sacar conclusiones sobre la información que contienen, con el objetivo de tomar decisiones sobre los datos. La analítica de datos se emplea en muchas industrias para permitir que las empresas y las organizaciones tomen mejores decisiones comerciales y, en el sector científico, para verificar o refutar modelos y teorías existentes. En este repositorio encontrarás una serie de cuadernos de Jupyter que te ayudarán a aplicar técnicas de análisis de datos a problemas del mundo real. \n",
    "\n",
    "En este curso, aprenderás a:\n",
    "\n",
    "- Importar y limpiar datos\n",
    "- Explorar y visualizar datos\n",
    "- Comunicar los resultados del análisis\n",
    "\n",
    "Nos ayudaremos principalmente de Python y Jupyter Notebook, pero también utilizaremos otras herramientas como SQL, Excel, Power BI, etc.\n",
    "\n",
    "## ¿Qué es Python?\n",
    "\n",
    "Python es un lenguaje de programación de alto nivel, interpretado, interactivo y orientado a objetos. Fue creado por Guido van Rossum y lanzado por primera vez en 1991. Python es un lenguaje de programación multiparadigma, lo que significa que admite programación orientada a objetos, programación imperativa y programación funcional. Es un lenguaje de programación interpretado, lo que significa que no se compila a código máquina ejecutable, sino que se ejecuta directamente por el intérprete. Esto permite que los programas escritos en Python se ejecuten en múltiples plataformas sin necesidad de cambios. El lenguaje de programación Python es mantenido por la Python Software Foundation. \n",
    "\n",
    "Para este curso, el uso de Python se hará através de Google Colab, se requiere entonces que cree una cuenta de gmail para poder acceder a esta herramienta. Google Colab es un entorno de Jupyter Notebook que no requiere configuración y se ejecuta completamente en la nube, por lo tanto no es necesario instalar nada en tu computadora.\n",
    "\n",
    "\n",
    "## Jupyter Notebook\n",
    "\n",
    "Aunque el mundo de la programación para algunos puede resultar intimidante, confuso e inaccesible; **Jupyter Notebook** es una herramienta que facilita el aprendizaje de Python por su idea revolucionaria de combinar código, texto y visualizaciones en un mismo documento.\n",
    "\n",
    "La estructura de cuaderno permite que tengamos celdas de texto y celdas de código en bloques. \n",
    "\n",
    "**Celdas de texto**\n",
    "Las celdas de texto se escriben en formato Markdown, que es un lenguaje de marcado ligero que permite añadir formato al texto. Por ejemplo, para escribir un título de nivel 1, utilizamos el símbolo `#` seguido del texto:\n",
    "\n",
    "```markdown\n",
    "# Título de nivel 1\n",
    "```\n",
    "\n",
    "Para escribir un título de nivel 2, utilizamos el símbolo `##` seguido del texto:\n",
    "\n",
    "```markdown\n",
    "## Título de nivel 2\n",
    "```\n",
    "\n",
    "Para escribir un título de nivel 3, utilizamos el símbolo `###` seguido del texto:\n",
    "\n",
    "```markdown\n",
    "### Título de nivel 3\n",
    "```\n",
    "\n",
    "y así sucesivamente. Google Colab tiene un editor muy simple de Markdown, que permite ver el resultado del texto formateado en tiempo real.\n",
    "\n",
    "**Celdas de código**\n",
    "\n",
    "Por otro lado, las celdas de código se escriben en Python. Por ejemplo, para imprimir un mensaje en pantalla, utilizamos la función `print()`:\n",
    "\n",
    "```python\n",
    "print(\"Hola Mundo\")\n",
    "```\n",
    "\n",
    "En lo que sigue, observe que la celda siguiente es una celda de código. Para ejecutar el código, haga clic en el botón de reproducción que aparece a la izquierda de la celda o presione `Ctrl + Enter`:\n"
   ]
  },
  {
   "cell_type": "code",
   "execution_count": 1,
   "metadata": {},
   "outputs": [
    {
     "name": "stdout",
     "output_type": "stream",
     "text": [
      "Hola Mundo\n"
     ]
    }
   ],
   "source": [
    "print(\"Hola Mundo\")"
   ]
  },
  {
   "attachments": {},
   "cell_type": "markdown",
   "metadata": {},
   "source": [
    "Como es su primera ejecución, en Google Colab debio aparecer un mensaje que dice:\n",
    "\n",
    "```\n",
    "Advertencia: Este cuaderno no lo ha creado Google.\n",
    "```\n",
    "\n",
    "Esto es porque el cuaderno no se encuentra en su Google Drive, sino en el repositorio de GitHub. Para poder ejecutar el código, debe hacer clic en el botón `Ejecutar de todos modos`. Pasará un tiempo mientras se instalan las dependencias necesarias para ejecutar el código. Cuando termine, verá el mensaje `Conectado` en la parte superior derecha de la página la información de la RAM y el Disco que está utilizando desde Colab.\n",
    "\n"
   ]
  },
  {
   "attachments": {},
   "cell_type": "markdown",
   "metadata": {},
   "source": [
    "## Funciones elementales de Python\n",
    "\n",
    "Python procesa las instrucciones que se le dan en un orden secuencial, de arriba a abajo, adicionalmente, permite hacer operaciones sencillas sobre los datos que se le ingresan. Entre los tipos de datos más comunes que se procesan en Python se encuentran los números enteros, los números reales, las cadenas de caracteres y los booleanos.\n",
    "\n",
    "### Números enteros\n",
    "\n",
    "Los números enteros son aquellos que no tienen parte decimal. Por ejemplo, 1, 2, 3, 4, 5, 6, 7, 8, 9, 10 son números enteros. En Python, los números enteros se representan con el tipo de dato `int`. Para asignar un valor a una variable, utilizamos el operador `=`:\n",
    "\n",
    "```python\n",
    "a = 1\n",
    "```\n",
    "\n",
    "Para imprimir el valor de una variable, utilizamos la función `print()`:\n",
    "\n",
    "```python\n",
    "print(a)\n",
    "```\n",
    "\n",
    "Para imprimir el tipo de dato de una variable, utilizamos la función `type()`:\n",
    "\n",
    "```python\n",
    "print(type(a))\n",
    "```"
   ]
  },
  {
   "cell_type": "code",
   "execution_count": 1,
   "metadata": {},
   "outputs": [
    {
     "name": "stdout",
     "output_type": "stream",
     "text": [
      "1\n",
      "<class 'int'>\n"
     ]
    }
   ],
   "source": [
    "### Ejemplos (Los comentarios en Python se hacen con #, es decir esto no se ejecuta)\n",
    "\n",
    "a=1\n",
    "\n",
    "print(a)\n",
    "print(type(a))"
   ]
  },
  {
   "attachments": {},
   "cell_type": "markdown",
   "metadata": {},
   "source": [
    "### Números reales\n",
    "\n",
    "Los números reales son aquellos que tienen parte decimal. Por ejemplo, 1.5, 2.3, 3.1416, 4.5, 5.6, 6.7, 7.8, 8.9, 9.0, 10.1 son números reales. En Python, los números reales se representan con el tipo de dato `float`. Para asignar un valor a una variable, utilizamos el operador `=`:\n",
    "\n",
    "```python\n",
    "b = 1.5\n",
    "```\n",
    "\n",
    "Usando la función `print()` podemos imprimir el valor de una variable:\n",
    "\n",
    "```python\n",
    "print(b)\n",
    "```\n",
    "\n",
    "y el tipo de dato de una variable:\n",
    "\n",
    "```python\n",
    "print(type(b))\n",
    "```"
   ]
  },
  {
   "cell_type": "code",
   "execution_count": 2,
   "metadata": {},
   "outputs": [
    {
     "name": "stdout",
     "output_type": "stream",
     "text": [
      "1.5\n",
      "<class 'float'>\n"
     ]
    }
   ],
   "source": [
    "## Veamos ahora la ejecución de una variable que almacena un número real\n",
    "\n",
    "b=1.5\n",
    "\n",
    "print(b)\n",
    "print(type(b))"
   ]
  },
  {
   "attachments": {},
   "cell_type": "markdown",
   "metadata": {},
   "source": [
    "### Cadenas de caracteres\n",
    "\n",
    "Las cadenas de caracteres son secuencias de caracteres. Por ejemplo, \"Hola Mundo\" es una cadena de caracteres. En Python, las cadenas de caracteres se representan con el tipo de dato `str`. Como en el caso anterior, para asignar un valor a una variable, utilizamos el operador `=`:\n",
    "\n",
    "```python\n",
    "c = \"Hola Mundo\"\n",
    "```\n",
    "\n",
    "Usando la función `print()` podemos imprimir el valor de una variable:\n",
    "\n",
    "```python\n",
    "print(c)\n",
    "```\n",
    "\n",
    "y el tipo de dato de una variable:\n",
    "\n",
    "```python\n",
    "print(type(c))\n",
    "```"
   ]
  },
  {
   "cell_type": "code",
   "execution_count": 3,
   "metadata": {},
   "outputs": [
    {
     "name": "stdout",
     "output_type": "stream",
     "text": [
      "Hola Mundo\n",
      "<class 'str'>\n"
     ]
    }
   ],
   "source": [
    "### Veamos un string\n",
    "\n",
    "c=\"Hola Mundo\"\n",
    "\n",
    "print(c)\n",
    "print(type(c))"
   ]
  },
  {
   "attachments": {},
   "cell_type": "markdown",
   "metadata": {},
   "source": [
    "### Booleanos\n",
    "\n",
    "Los booleanos son aquellos que pueden tomar dos valores: `True` o `False`. En Python, los booleanos se representan con el tipo de dato `bool`. Igual que antes, para asignar un valor a una variable, utilizamos el operador `=`:\n",
    "\n",
    "```python\n",
    "d = True\n",
    "```\n",
    "\n",
    "Para verla:\n",
    "    \n",
    "```python\n",
    "print(d)\n",
    "```\n",
    "\n",
    "Para ver el tipo de dato de una variable:\n",
    "\n",
    "```python\n",
    "print(type(d))\n",
    "```"
   ]
  },
  {
   "cell_type": "code",
   "execution_count": 4,
   "metadata": {},
   "outputs": [
    {
     "name": "stdout",
     "output_type": "stream",
     "text": [
      "True\n",
      "<class 'bool'>\n"
     ]
    }
   ],
   "source": [
    "## Una variable Booleana\n",
    "d=True\n",
    "\n",
    "print(d)\n",
    "print(type(d))"
   ]
  },
  {
   "attachments": {},
   "cell_type": "markdown",
   "metadata": {},
   "source": [
    "### Operaciones aritméticas\n",
    "\n",
    "Python permite realizar operaciones aritméticas sobre los datos. Por ejemplo, podemos sumar dos números enteros:\n",
    "\n",
    "```python\n",
    "a = 1\n",
    "b = 2\n",
    "c = a + b\n",
    "print(c)\n",
    "```\n",
    "\n",
    "```python output\n",
    "3\n",
    "```\n",
    "\n",
    "Sumar dos números reales:\n",
    "\n",
    "```python\n",
    "a = 1.5\n",
    "b = 2.3\n",
    "c = a + b\n",
    "print(c)\n",
    "```\n",
    "\n",
    "```python output\n",
    "3.8\n",
    "```\n",
    "\n",
    "Sumar dos cadenas de caracteres:\n",
    "\n",
    "```python\n",
    "a = \"Hola\"\n",
    "b = \"Mundo\"\n",
    "c = a + b\n",
    "print(c)\n",
    "```\n",
    "\n",
    "```python output\n",
    "HolaMundo\n",
    "```\n",
    "\n",
    "Sumar un número entero y un número real:\n",
    "\n",
    "```python\n",
    "a = 1\n",
    "b = 2.3\n",
    "c = a + b\n",
    "print(c)\n",
    "```\n",
    "\n",
    "```python output\n",
    "3.3\n",
    "```\n",
    "\n",
    "Pero no podemos sumar un número entero y una cadena de caracteres:\n",
    "\n",
    "```python\n",
    "a = 1\n",
    "b = \"Hola\"\n",
    "c = a + b\n",
    "print(c)\n",
    "```\n",
    "\n",
    "```python output\n",
    "Traceback (most recent call last):\n",
    "  File \"<stdin>\", line 1, in <module>\n",
    "TypeError: unsupported operand type(s) for +: 'int' and 'str'\n",
    "```\n"
   ]
  },
  {
   "cell_type": "code",
   "execution_count": 6,
   "metadata": {},
   "outputs": [],
   "source": [
    "a=1\n",
    "b=2\n",
    "c=3.5\n",
    "d=True\n",
    "e=\"Hola\"\n",
    "f=\"Mundo\""
   ]
  },
  {
   "cell_type": "code",
   "execution_count": 7,
   "metadata": {},
   "outputs": [
    {
     "name": "stdout",
     "output_type": "stream",
     "text": [
      "Suma de enteros:\n",
      "3\n"
     ]
    }
   ],
   "source": [
    "print(\"Suma de enteros:\")\n",
    "print(a+b)"
   ]
  },
  {
   "cell_type": "code",
   "execution_count": 8,
   "metadata": {},
   "outputs": [
    {
     "name": "stdout",
     "output_type": "stream",
     "text": [
      "Suma de enteros y reales:\n",
      "4.5\n"
     ]
    }
   ],
   "source": [
    "print(\"Suma de enteros y reales:\")\n",
    "print(a+c)"
   ]
  },
  {
   "cell_type": "code",
   "execution_count": 9,
   "metadata": {},
   "outputs": [
    {
     "name": "stdout",
     "output_type": "stream",
     "text": [
      "Concatenación de strings:\n",
      "HolaMundo\n"
     ]
    }
   ],
   "source": [
    "print(\"Concatenación de strings:\")\n",
    "print(e+f)"
   ]
  },
  {
   "cell_type": "code",
   "execution_count": 12,
   "metadata": {},
   "outputs": [
    {
     "name": "stdout",
     "output_type": "stream",
     "text": [
      "Concatenación de strings y enteros (Genera Error):\n"
     ]
    }
   ],
   "source": [
    "print(\"Concatenación de strings y enteros (Genera Error):\")\n",
    "#print(e+a)"
   ]
  },
  {
   "cell_type": "code",
   "execution_count": 13,
   "metadata": {},
   "outputs": [
    {
     "name": "stdout",
     "output_type": "stream",
     "text": [
      "Concatenación de strings y enteros (Solución):\n",
      "Hola1\n"
     ]
    }
   ],
   "source": [
    "print(\"Concatenación de strings y enteros (Solución):\")\n",
    "\n",
    "print(e+str(a))\n",
    "\n",
    "### En este caso la variable a se convierte en un string con la función str()"
   ]
  },
  {
   "attachments": {},
   "cell_type": "markdown",
   "metadata": {},
   "source": [
    "Tampoco podemos sumar un número real y una cadena de caracteres:\n",
    "\n",
    "```python\n",
    "a = 1.5\n",
    "b = \"Hola\"\n",
    "c = a + b\n",
    "print(c)\n",
    "```\n",
    "\n",
    "```python output\n",
    "Traceback (most recent call last):\n",
    "  File \"<stdin>\", line 1, in <module>\n",
    "TypeError: unsupported operand type(s) for +: 'float' and 'str'\n",
    "```"
   ]
  },
  {
   "attachments": {},
   "cell_type": "markdown",
   "metadata": {},
   "source": [
    "Observe que para obtener todas las salidas anteriores debe correr cada celda de código. Para correr una celda de código, haga clic en el botón de reproducción que aparece a la izquierda de la celda o presione `Ctrl + Enter`."
   ]
  },
  {
   "attachments": {},
   "cell_type": "markdown",
   "metadata": {},
   "source": [
    "Otros tipos de datos:\n",
    "\n",
    "### Listas\n",
    "\n",
    "Las listas son secuencias de datos que se representan con el tipo de dato `list`, se caracterizan por estar encerradas entre corchetes y separadas por comas, se pueden almacenar diferentes tipos de datos en una misma lista y se pueden modificar. Por ejemplo, podemos crear una lista con los números del 1 al 5:\n",
    "\n",
    "```python   \n",
    "a = [1, 2, 3, 4, 5]\n",
    "```\n",
    "\n",
    "Con print, la imprimimos y con type verificamos su tipo:\n",
    "\n",
    "```python\n",
    "print(a)\n",
    "print(type(a))\n",
    "```\n",
    "\n",
    "```python output\n",
    "[1, 2, 3, 4, 5]\n",
    "<class 'list'>\n",
    "```\n",
    "\n",
    "Como vemos en el ejemplo anterior, las listas contienen varios valores, en este caso si quisiéramos acceder a un valor en particular, lo hacemos con el índice del valor que queremos acceder. Por ejemplo, si queremos acceder al primer valor de la lista, hacemos:\n",
    "\n",
    "```python\n",
    "print(a[0])\n",
    "```\n",
    "\n",
    "```python output\n",
    "1\n",
    "```\n",
    "\n",
    "Nota: *En Python los índices inicien en 0, por lo que el primer valor de la lista tiene índice 0, el segundo valor tiene índice 1, el tercer valor tiene índice 2, y así sucesivamente.*\n",
    "\n",
    "### Tuplas\n",
    "\n",
    "Las tuplas son secuencias de datos que se representan con el tipo de dato `tuple`, se caracterizan por estar encerradas entre paréntesis y separadas por comas, se pueden almacenar diferentes tipos de datos en una misma tupla y no se pueden modificar. Por ejemplo, podemos crear una tupla con los números del 1 al 5:\n",
    "\n",
    "```python\n",
    "a = (1, 2, 3, 4, 5)\n",
    "```\n",
    "\n",
    "Con print, la imprimimos y con type verificamos su tipo:\n",
    "\n",
    "```python\n",
    "print(a)\n",
    "print(type(a))\n",
    "```\n",
    "\n",
    "```python output\n",
    "(1, 2, 3, 4, 5)\n",
    "<class 'tuple'>\n",
    "```\n",
    "\n",
    "Decimos que la tupla no se puede modificar, porque si intentamos modificar un valor de la tupla, Python nos arrojará un error:\n",
    "\n",
    "```python\n",
    "a[0] = 10\n",
    "```\n",
    "\n",
    "```python output\n",
    "Traceback (most recent call last):\n",
    "  File \"<stdin>\", line 1, in <module>\n",
    "TypeError: 'tuple' object does not support item assignment\n",
    "```\n",
    "\n",
    "En una lista eso no ocurre:\n",
    "\n",
    "```python\n",
    "a = [1, 2, 3, 4, 5]\n",
    "a[0] = 10\n",
    "print(a)\n",
    "```\n",
    "\n",
    "```python output\n",
    "[10, 2, 3, 4, 5]\n",
    "```\n",
    "\n",
    "### Diccionarios\n",
    "\n",
    "Los diccionarios son secuencias de datos que se representan con el tipo de dato `dict`, se caracterizan por estar encerradas entre llaves y separadas por comas, se pueden almacenar diferentes tipos de datos en un mismo diccionario y se pueden modificar. Por ejemplo, podemos crear un diccionario con los números del 1 al 5:\n",
    "\n",
    "```python\n",
    "a = {1: \"uno\", 2: \"dos\", 3: \"tres\", 4: \"cuatro\", 5: \"cinco\"}\n",
    "```\n",
    "\n",
    "Con print, la imprimimos y con type verificamos su tipo:\n",
    "\n",
    "```python\n",
    "print(a)\n",
    "print(type(a))\n",
    "```\n",
    "\n",
    "```python output\n",
    "{1: 'uno', 2: 'dos', 3: 'tres', 4: 'cuatro', 5: 'cinco'}\n",
    "<class 'dict'>\n",
    "```\n",
    "\n",
    "Como vemos en el ejemplo anterior, los diccionarios contienen varios valores, en este caso si quisiéramos acceder a un valor en particular, lo hacemos con la llave del valor que queremos acceder. Por ejemplo, si queremos acceder al valor de la llave 1, hacemos:\n",
    "\n",
    "```python\n",
    "print(a[1])\n",
    "```\n",
    "\n",
    "```python output\n",
    "uno\n",
    "```\n"
   ]
  },
  {
   "cell_type": "code",
   "execution_count": 14,
   "metadata": {},
   "outputs": [
    {
     "name": "stdout",
     "output_type": "stream",
     "text": [
      "Concatenación de listas:\n",
      "[1, 2, 3, 4, 5, 6, 7, 8, 9, 10]\n"
     ]
    }
   ],
   "source": [
    "Lista_1=[1,2,3,4,5]\n",
    "Lista_2=[6,7,8,9,10]\n",
    "\n",
    "print(\"Concatenación de listas:\")\n",
    "print(Lista_1+Lista_2)"
   ]
  },
  {
   "cell_type": "code",
   "execution_count": 15,
   "metadata": {},
   "outputs": [
    {
     "name": "stdout",
     "output_type": "stream",
     "text": [
      "Concatenación de tuplas:\n",
      "(1, 2, 3, 4, 5, 6, 7, 8, 9, 10)\n"
     ]
    }
   ],
   "source": [
    "tuple_1=(1,2,3,4,5)\n",
    "tuple_2=(6,7,8,9,10)\n",
    "\n",
    "print(\"Concatenación de tuplas:\")\n",
    "print(tuple_1+tuple_2)"
   ]
  },
  {
   "cell_type": "code",
   "execution_count": 17,
   "metadata": {},
   "outputs": [],
   "source": [
    "## No se pueden concatenar listas y tuplas, confirmelo:\n",
    "\n",
    "#Lista_1+tuple_1\n",
    "#Para correr esta celda quite el comentario de la línea anterior"
   ]
  },
  {
   "attachments": {},
   "cell_type": "markdown",
   "metadata": {},
   "source": [
    "## Librerias de Python\n",
    "\n",
    "Una de las principales ventajas de Python es la gran cantidad de librerías que existen para realizar diferentes tareas. En este curso, utilizaremos principalmente las siguientes librerías:\n",
    "\n",
    "- **NumPy**: es una librería de Python que proporciona una gran colección de funciones matemáticas y de alto nivel que operan en arreglos y matrices.\n",
    "\n",
    "- **Pandas**: es una librería de Python que proporciona estructuras de datos y herramientas de análisis de datos de alto rendimiento y fáciles de usar.\n",
    "\n",
    "- **Matplotlib**: es una librería de Python que permite crear visualizaciones estáticas, animadas e interactivas.\n",
    "\n",
    "- **Seaborn**: es una librería de Python que permite crear visualizaciones estadísticas en Python."
   ]
  },
  {
   "cell_type": "code",
   "execution_count": 2,
   "metadata": {},
   "outputs": [],
   "source": [
    "import numpy as np\n",
    "import matplotlib.pyplot as plt\n",
    "import pandas as pd\n",
    "import seaborn as sns"
   ]
  },
  {
   "attachments": {},
   "cell_type": "markdown",
   "metadata": {},
   "source": [
    "La sintaxis para importar una librería es la siguiente:\n",
    "\n",
    "```python\n",
    "import libreria as alias\n",
    "```\n",
    "\n",
    "Al cargar la libreria todas las funciones que contiene se pueden utilizar utilizando el alias. Se usa \".\" para acceder a las funciones de la librería. Por ejemplo si la función es `funcion()` y la librería se llama `libreria` entonces se utiliza `libreria.funcion()`. Si se importó con el alias `alias` entonces se utiliza `alias.funcion()`.\n",
    "\n",
    "\n",
    "Por ejemplo, para importar la librería NumPy con el alias `np`, utilizamos:\n",
    "\n",
    "```python\n",
    "import numpy as np\n",
    "```\n",
    "\n",
    "Y si de numpy quiero utilizar la función `mean()` entonces utilizo `np.mean()`.\n",
    "\n",
    "Por ejemplo:\n",
    "    \n",
    "```python\n",
    "import numpy as np\n",
    "np.mean([1,2,3,4,5])\n",
    "```\n",
    "tiene como resultado `3.0`. El promedio de los números del 1 al 5 es 3."
   ]
  },
  {
   "cell_type": "code",
   "execution_count": 3,
   "metadata": {},
   "outputs": [
    {
     "data": {
      "text/plain": [
       "3.0"
      ]
     },
     "execution_count": 3,
     "metadata": {},
     "output_type": "execute_result"
    }
   ],
   "source": [
    "import numpy as np\n",
    "np.mean([1,2,3,4,5])"
   ]
  },
  {
   "attachments": {},
   "cell_type": "markdown",
   "metadata": {},
   "source": [
    "## Cierre\n",
    "\n",
    "En esta clase aprendimos:\n",
    "\n",
    "- Qué es Python y para qué sirve.\n",
    "- Cómo usar Google Colab y Jupyter Notebook.\n",
    "- Cómo usar variables en Python.\n",
    "- Algunos tipos de datos en Python.\n",
    "- Cómo importar librerías en Python.\n",
    "\n",
    "Esperamos que esta clase te haya servido para aprender los conceptos básicos de Python y que te haya motivado a seguir aprendiendo. En la próxima clase, aprenderemos a utilizar la librería NumPy.\n"
   ]
  }
 ],
 "metadata": {
  "kernelspec": {
   "display_name": "base",
   "language": "python",
   "name": "python3"
  },
  "language_info": {
   "codemirror_mode": {
    "name": "ipython",
    "version": 3
   },
   "file_extension": ".py",
   "mimetype": "text/x-python",
   "name": "python",
   "nbconvert_exporter": "python",
   "pygments_lexer": "ipython3",
   "version": "3.10.9"
  },
  "orig_nbformat": 4
 },
 "nbformat": 4,
 "nbformat_minor": 2
}
